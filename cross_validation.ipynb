{
 "cells": [
  {
   "cell_type": "markdown",
   "metadata": {},
   "source": [
    "# Cross Validation Techniques"
   ]
  },
  {
   "cell_type": "markdown",
   "metadata": {},
   "source": [
    "# EXHAUSTIVE:\n",
    "According to Wikipedia, exhaustive cross-validation methods are cross-validation methods which learn and test on all possible ways to divide the original sample into a training and a validation set.<br>\n",
    "\n",
    "Two types of exhaustive cross-validation are<br>"
   ]
  },
  {
   "cell_type": "markdown",
   "metadata": {},
   "source": [
    "## 1)  Leave-P-Out Cross-Validation:"
   ]
  },
  {
   "cell_type": "markdown",
   "metadata": {},
   "source": [
    "In this strategy, p observations are used for validation, and the remaining is used for training.<br>\n",
    "\n",
    "For a data set with n observations, n-p observations will be used for training, and p will be used for validation.<br>\n",
    "\n",
    "Since this method is exhaustive, it trains and tests on all possible combinations, and it can become computationally expensive for large values of p.<br>"
   ]
  },
  {
   "attachments": {
    "1.png": {
     "image/png": "[encoded data removed]"
    }
   },
   "cell_type": "markdown",
   "metadata": {},
   "source": [
    "![1.png](attachment:1.png)"
   ]
  },
  {
   "cell_type": "code",
   "execution_count": 6,
   "metadata": {},
   "outputs": [
    {
     "name": "stdout",
     "output_type": "stream",
     "text": [
      "Train set:[0.3 0.4 0.5 0.6] Test set:[0.1 0.2]\n",
      "Train set:[0.2 0.4 0.5 0.6] Test set:[0.1 0.3]\n",
      "Train set:[0.2 0.3 0.5 0.6] Test set:[0.1 0.4]\n",
      "Train set:[0.2 0.3 0.4 0.6] Test set:[0.1 0.5]\n",
      "Train set:[0.2 0.3 0.4 0.5] Test set:[0.1 0.6]\n",
      "Train set:[0.1 0.4 0.5 0.6] Test set:[0.2 0.3]\n",
      "Train set:[0.1 0.3 0.5 0.6] Test set:[0.2 0.4]\n",
      "Train set:[0.1 0.3 0.4 0.6] Test set:[0.2 0.5]\n",
      "Train set:[0.1 0.3 0.4 0.5] Test set:[0.2 0.6]\n",
      "Train set:[0.1 0.2 0.5 0.6] Test set:[0.3 0.4]\n",
      "Train set:[0.1 0.2 0.4 0.6] Test set:[0.3 0.5]\n",
      "Train set:[0.1 0.2 0.4 0.5] Test set:[0.3 0.6]\n",
      "Train set:[0.1 0.2 0.3 0.6] Test set:[0.4 0.5]\n",
      "Train set:[0.1 0.2 0.3 0.5] Test set:[0.4 0.6]\n",
      "Train set:[0.1 0.2 0.3 0.4] Test set:[0.5 0.6]\n"
     ]
    }
   ],
   "source": [
    "import numpy as np\n",
    "from sklearn.model_selection import LeavePOut\n",
    "\n",
    "data = np.array([0.1, 0.2, 0.3, 0.4, 0.5, 0.6])\n",
    "\n",
    "lpo = LeavePOut(p=2)\n",
    "\n",
    "for train, validate in lpo.split(data):\n",
    "    print(\"Train set:{}\".format(data[train]), \"Test set:{}\".format(data[validate]))"
   ]
  },
  {
   "cell_type": "markdown",
   "metadata": {},
   "source": [
    "## 2) Leave-one-out Cross-Validation:"
   ]
  },
  {
   "cell_type": "markdown",
   "metadata": {},
   "source": [
    "This is a variant of LPO. When p = 1 in Leave-P-Out cross-validation then it is Leave-One-Out cross-validation.<br>\n",
    "\n",
    "In LOO, one observation is taken out of the training set as a validation set.<br>\n",
    "\n",
    "We will train the model without this validation set and later test whether it correctly classify the observation.<br>"
   ]
  },
  {
   "attachments": {
    "2.png": {
     "image/png": "[encoded data removed]"
    }
   },
   "cell_type": "markdown",
   "metadata": {},
   "source": [
    "![2.png](attachment:2.png)"
   ]
  },
  {
   "cell_type": "code",
   "execution_count": 7,
   "metadata": {},
   "outputs": [
    {
     "name": "stdout",
     "output_type": "stream",
     "text": [
      "Train: [0.2 0.3 0.4 0.5 0.6] Test: [0.1]\n",
      "Train: [0.1 0.3 0.4 0.5 0.6] Test: [0.2]\n",
      "Train: [0.1 0.2 0.4 0.5 0.6] Test: [0.3]\n",
      "Train: [0.1 0.2 0.3 0.5 0.6] Test: [0.4]\n",
      "Train: [0.1 0.2 0.3 0.4 0.6] Test: [0.5]\n",
      "Train: [0.1 0.2 0.3 0.4 0.5] Test: [0.6]\n"
     ]
    }
   ],
   "source": [
    "import numpy as np\n",
    "from sklearn.model_selection import LeaveOneOut\n",
    "\n",
    "data = np.array([0.1, 0.2, 0.3, 0.4, 0.5, 0.6])\n",
    "\n",
    "loo = LeaveOneOut()\n",
    "for train, test in loo.split(data):\n",
    "    print('Train:', data[train], 'Test:', data[test])"
   ]
  },
  {
   "cell_type": "markdown",
   "metadata": {},
   "source": [
    "# NON-EXHAUSTIVE:\n",
    "In the non-exhaustive method, we don’t compute for all possible combinations of the original data."
   ]
  },
  {
   "cell_type": "markdown",
   "metadata": {},
   "source": [
    "## 1) HOLDOUT:\n",
    "This is the simplest method of all. In Holdout validation, the data is randomly partitioned into train and test set.<br>\n",
    "Most of the times it is 70/30 or 80/20 split.<br>\n",
    "We train our model in the training set, and it’ll be tested in the test set to see how well the model is performing for unknown events.<br>"
   ]
  },
  {
   "attachments": {
    "3.png": {
     "image/png": "[encoded data removed]"
    }
   },
   "cell_type": "markdown",
   "metadata": {},
   "source": [
    "![3.png](attachment:3.png)"
   ]
  },
  {
   "cell_type": "code",
   "execution_count": 8,
   "metadata": {},
   "outputs": [
    {
     "name": "stdout",
     "output_type": "stream",
     "text": [
      "Train: [0.8 0.3 0.6 0.2 0.1 0.5] Test: [0.4 0.9 0.7]\n"
     ]
    }
   ],
   "source": [
    "import numpy as np\n",
    "from sklearn.model_selection import train_test_split\n",
    "\n",
    "data = np.array([0.1, 0.2, 0.3, 0.4, 0.5, 0.6, 0.7, 0.8, 0.9])\n",
    "\n",
    "train, test = train_test_split(data, test_size=0.3, random_state=43)\n",
    "\n",
    "print('Train:', train, 'Test:', test)"
   ]
  },
  {
   "cell_type": "markdown",
   "metadata": {},
   "source": [
    "# 2) K-FOLD:\n",
    "This is the frequently used cross-validation method.<br>\n",
    "\n",
    "In k-fold cross-validation, we split the training data set randomly into k equal subsets or folds.<br>\n",
    "\n",
    "Out of these k subsets, we’ll treat k-1 subsets as the training set and the remaining as our test set.<br>\n",
    "\n",
    "This process is repeated for k iterations. For each iteration, a different fold is held-out for testing, and the remaining k-1 is used for training.<br>"
   ]
  },
  {
   "attachments": {
    "4.png": {
     "image/png": "[encoded data removed]"
    }
   },
   "cell_type": "markdown",
   "metadata": {},
   "source": [
    "![4.png](attachment:4.png)"
   ]
  },
  {
   "cell_type": "code",
   "execution_count": 9,
   "metadata": {},
   "outputs": [
    {
     "name": "stdout",
     "output_type": "stream",
     "text": [
      "Train[0.4 0.5 0.6 0.7 0.8 0.9] Test[0.1 0.2 0.3]\n",
      "Train[0.1 0.2 0.3 0.7 0.8 0.9] Test[0.4 0.5 0.6]\n",
      "Train[0.1 0.2 0.3 0.4 0.5 0.6] Test[0.7 0.8 0.9]\n"
     ]
    }
   ],
   "source": [
    "import numpy as np \n",
    "from sklearn.model_selection import KFold\n",
    "\n",
    "data = np.array([0.1, 0.2, 0.3, 0.4, 0.5, 0.6, 0.7, 0.8, 0.9])\n",
    "\n",
    "kf = KFold(n_splits=3)\n",
    "\n",
    "for train, test in kf.split(data):\n",
    "    print('Train{}'.format(data[train]), 'Test{}'.format(data[test]))"
   ]
  },
  {
   "cell_type": "markdown",
   "metadata": {},
   "source": [
    "# 3) STRATIFIED K-FOLD:\n",
    "We use stratified K-fold to cope with class imbalances in the data set.<br>\n",
    "\n",
    "Stratified K-fold maintains the class proportions by splitting the data set in such a way that they contain approximately the same proportions of labels as in the original data set.<br>\n",
    "\n",
    "This strategy guarantees that when the data set is unbalanced, one class of the data is not over-represented.<br>"
   ]
  },
  {
   "cell_type": "code",
   "execution_count": 10,
   "metadata": {},
   "outputs": [
    {
     "name": "stdout",
     "output_type": "stream",
     "text": [
      "Tran: [0.3 0.5 0.6] Test: [0.1 0.2 0.4]\n",
      "Tran: [0.1 0.2 0.4] Test: [0.3 0.5 0.6]\n"
     ]
    },
    {
     "name": "stderr",
     "output_type": "stream",
     "text": [
      "C:\\Users\\Lovely\\anaconda3\\lib\\site-packages\\sklearn\\model_selection\\_split.py:670: UserWarning: The least populated class in y has only 1 members, which is less than n_splits=2.\n",
      "  warnings.warn((\"The least populated class in y has only %d\"\n"
     ]
    }
   ],
   "source": [
    "import numpy as np \n",
    "from sklearn.model_selection import StratifiedKFold\n",
    "\n",
    "data = np.array([0.1, 0.2, 0.3, 0.4, 0.5, 0.6])\n",
    "y = np.array([1,1,1,1,1,0])\n",
    "\n",
    "skf = StratifiedKFold(n_splits = 2, shuffle=True)\n",
    "\n",
    "for train, validate in skf.split(data, y):\n",
    "    print('Tran:', data[train], 'Test:', data[validate])"
   ]
  }
 ],
 "metadata": {
  "kernelspec": {
   "display_name": "Python 3",
   "language": "python",
   "name": "python3"
  },
  "language_info": {
   "codemirror_mode": {
    "name": "ipython",
    "version": 3
   },
   "file_extension": ".py",
   "mimetype": "text/x-python",
   "name": "python",
   "nbconvert_exporter": "python",
   "pygments_lexer": "ipython3",
   "version": "3.8.8"
  }
 },
 "nbformat": 4,
 "nbformat_minor": 4
}
